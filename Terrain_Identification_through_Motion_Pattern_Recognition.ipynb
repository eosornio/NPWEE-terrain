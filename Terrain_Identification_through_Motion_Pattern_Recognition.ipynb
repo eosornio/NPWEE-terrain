{
 "cells": [
  {
   "cell_type": "markdown",
   "metadata": {},
   "source": [
    "# Terrain Identification through Motion Pattern Recognition - Step by Step Code/Software\n"
   ]
  },
  {
   "cell_type": "markdown",
   "metadata": {},
   "source": [
    "The purpose of this project is to do terrain identification using motion pattern recognition. Only motion sensors will be use for this project. Sensors such as LIDAR and Ultrasonic will not be used. The reason being is that motion sensors, such as accelerometer and gyroscope, will have an advanteage over laser sensor in harsh environments, such as rain. The following will discuss the step that can be taken  to complete a small aspect of the software."
   ]
  },
  {
   "cell_type": "markdown",
   "metadata": {},
   "source": [
    "### Neural Networks"
   ]
  },
  {
   "cell_type": "markdown",
   "metadata": {},
   "source": [
    "Neural network is a term used to describe how the algorithm functions, like the human brain. The human brain sends, recieves, and intrepretes signals from the neurons in the human system. There are three types of neural networks that I will be talking about: supervised, unsupervised, and reinforcement.  "
   ]
  },
  {
   "cell_type": "markdown",
   "metadata": {},
   "source": []
  },
  {
   "cell_type": "markdown",
   "metadata": {},
   "source": [
    "    \"Supervised learning uses a training set to teach models to yield the desired output. This training dataset includes inputs and correct outputs, which allow the model to learn over time. The algorithm measures its accuracy through the loss function, adjusting until the error has been sufficiently minimized.\" (1)"
   ]
  },
  {
   "cell_type": "markdown",
   "metadata": {},
   "source": [
    "    \"Unsupervised learning uses unlabeled data. From that data, it discovers patterns that help solve for clustering or association problems. This is particularly useful when subject matter experts are unsure of common properties within a data set.\" (1)"
   ]
  },
  {
   "cell_type": "markdown",
   "metadata": {},
   "source": [
    "    \"In reinforcement learning, the AI model tries to take the best possible action in a given situation to maximize the total profit. The model learns by getting feedback on its past outcomes.\" (2)"
   ]
  },
  {
   "cell_type": "markdown",
   "metadata": {},
   "source": []
  },
  {
   "cell_type": "markdown",
   "metadata": {},
   "source": [
    "Ideal, supervised learning would produce the most accuracte results. But the other two learning types would work for this project as well. Below are examples for each type of learning.  "
   ]
  },
  {
   "cell_type": "markdown",
   "metadata": {},
   "source": [
    "However, defining the learning types is not enough to understand neural networks. Neural networks have other components, such as input, weights, activation function, and bias. (4) Weights are scalar values that determine the \"importance of each input\" (4). Activation function will produce an output that correlates with the input. Bias, which is usually 1, is mulitply with its weight and will affect the result from the activation function (4). Neural networks also consist of \"layers.\" Layers can be tought of as steps in the neural networks. Below is an a picture of a deep neural network that has multiple hidden layers. Hidden layers are the steps where the network use the weights and other functions to output a result. "
   ]
  },
  {
   "cell_type": "markdown",
   "metadata": {},
   "source": [
    "![](https://1.cms.s81c.com/sites/default/files/2021-01-06/ICLH_Diagram_Batch_01_03-DeepNeuralNetwork-WHITEBG.png)"
   ]
  },
  {
   "cell_type": "markdown",
   "metadata": {},
   "source": [
    "From source 5."
   ]
  },
  {
   "cell_type": "markdown",
   "metadata": {},
   "source": [
    "#### Supervised Learning"
   ]
  },
  {
   "cell_type": "markdown",
   "metadata": {},
   "source": [
    "There are many types of algorthims that use supervised learning. Some examples are:\n",
    "- Naive bayes\n",
    "- Linear regression\n",
    "- Decision tress\n",
    "- Multilayer perceptron\n",
    "- K-nearest neighbor"
   ]
  },
  {
   "cell_type": "markdown",
   "metadata": {},
   "source": [
    "##### Linear Regression Example"
   ]
  },
  {
   "cell_type": "markdown",
   "metadata": {},
   "source": [
    "This linear example will be working with the provoded data, graph the best fit model, and predict for future data sets inputed. This example is from source 3. Credit of the code go to Mirko Stojiljković."
   ]
  },
  {
   "cell_type": "markdown",
   "metadata": {},
   "source": [
    "Firstly, data is needed that can be used. In this case, the data was created. Using the library, numpy, a set of values for input, x, and output, y, are created."
   ]
  },
  {
   "cell_type": "code",
   "execution_count": 1,
   "metadata": {},
   "outputs": [
    {
     "name": "stdout",
     "output_type": "stream",
     "text": [
      "x:  [[ 5]\n",
      " [15]\n",
      " [25]\n",
      " [35]\n",
      " [45]\n",
      " [55]]\n",
      "y:  [ 5 20 14 32 22 38]\n"
     ]
    }
   ],
   "source": [
    "import numpy as np\n",
    "from sklearn.linear_model import LinearRegression\n",
    "x = np.array([5, 15, 25, 35, 45, 55]).reshape((-1, 1))\n",
    "y = np.array([5, 20, 14, 32, 22, 38])\n",
    "print(\"x: \", x)\n",
    "print(\"y: \", y)"
   ]
  },
  {
   "cell_type": "markdown",
   "metadata": {},
   "source": [
    "The next section is the weights. In python, there is a fit function that will calculate the values using weights. After the values are calulated, the linear regression function from the sklearn library is used with the fit function to create the model. "
   ]
  },
  {
   "cell_type": "code",
   "execution_count": 2,
   "metadata": {},
   "outputs": [],
   "source": [
    "model = LinearRegression()\n",
    "model.fit(x, y)\n",
    "model = LinearRegression().fit(x, y)"
   ]
  },
  {
   "cell_type": "markdown",
   "metadata": {},
   "source": [
    "Once the model is created, the display can be as a graph or numerical value. In this case, Stojiljković displayed numerical values. "
   ]
  },
  {
   "cell_type": "code",
   "execution_count": 4,
   "metadata": {},
   "outputs": [
    {
     "name": "stdout",
     "output_type": "stream",
     "text": [
      "y-intercept: 5.633333333333329\n",
      "slope of line: [0.54]\n"
     ]
    }
   ],
   "source": [
    "print(f\"y-intercept: {model.intercept_}\")\n",
    "print(f\"slope of line: {model.coef_}\")"
   ]
  },
  {
   "cell_type": "markdown",
   "metadata": {},
   "source": [
    "However, we can do a graph as well. The followin code will work to plot the graph of the above code. And as you can see, we use the predict function. What this function does, it predict the the best line for the values, and as the input continues to be receives from the user, we adjust our best fit line. "
   ]
  },
  {
   "cell_type": "code",
   "execution_count": 11,
   "metadata": {},
   "outputs": [
    {
     "data": {
      "text/plain": [
       "<function matplotlib.pyplot.show(close=None, block=None)>"
      ]
     },
     "execution_count": 11,
     "metadata": {},
     "output_type": "execute_result"
    },
    {
     "data": {
      "image/png": "[encoded data removed]",
      "text/plain": [
       "<Figure size 432x288 with 1 Axes>"
      ]
     },
     "metadata": {
      "needs_background": "light"
     },
     "output_type": "display_data"
    }
   ],
   "source": [
    "# however, we can do a graph as well. \n",
    "# for example, the following code will work to plot the graph of the above code. \n",
    "import matplotlib.pyplot as plt\n",
    "plt.scatter(x,y,color=\"blue\")\n",
    "plt.plot(x,model.predict(x), color=\"red\")\n",
    "plt.show"
   ]
  },
  {
   "cell_type": "markdown",
   "metadata": {},
   "source": [
    "This example of linear regression best examples how we take input and correct output from the user to get the best results; this is called training the model. And as we continue to input more values, the best result adjust according to the mapping from training; this is called testing the model."
   ]
  },
  {
   "cell_type": "markdown",
   "metadata": {},
   "source": [
    "#### Unsupervised Learning"
   ]
  },
  {
   "cell_type": "code",
   "execution_count": null,
   "metadata": {},
   "outputs": [],
   "source": []
  },
  {
   "cell_type": "markdown",
   "metadata": {},
   "source": [
    "### Resources"
   ]
  },
  {
   "cell_type": "markdown",
   "metadata": {},
   "source": [
    "1. https://www.ibm.com/cloud/learn/supervised-learning\n",
    "2. https://www.educative.io/answers/supervised-vs-unsupervised-vs-reinforcement-learning\n",
    "3. https://realpython.com/linear-regression-in-python/\n",
    "4. https://towardsdatascience.com/artificial-neural-networks-for-total-beginners-d8cd07abaae4\n",
    "5. https://www.ibm.com/cloud/learn/neural-networks#:~:text=Neural%20networks%2C%20also%20known%20as,neurons%20signal%20to%20one%20another."
   ]
  }
 ],
 "metadata": {
  "kernelspec": {
   "display_name": "Python 3.7.8 64-bit",
   "language": "python",
   "name": "python3"
  },
  "language_info": {
   "codemirror_mode": {
    "name": "ipython",
    "version": 3
   },
   "file_extension": ".py",
   "mimetype": "text/x-python",
   "name": "python",
   "nbconvert_exporter": "python",
   "pygments_lexer": "ipython3",
   "version": "3.7.8"
  },
  "orig_nbformat": 4,
  "vscode": {
   "interpreter": {
    "hash": "0a54084e6b208ee8d1ce3989ffc20924477a5f55f5a43e22e699a6741623861e"
   }
  }
 },
 "nbformat": 4,
 "nbformat_minor": 2
}
